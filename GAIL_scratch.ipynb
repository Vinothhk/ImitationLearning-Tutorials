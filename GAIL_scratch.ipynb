{
 "cells": [
  {
   "cell_type": "code",
   "execution_count": 60,
   "id": "d9ea39ba",
   "metadata": {},
   "outputs": [],
   "source": [
    "import torch\n",
    "import torch.nn as nn\n",
    "import torch.optim as optim\n",
    "import numpy as np\n",
    "import gymnasium as gym\n",
    "from collections import deque\n",
    "import random\n",
    "import pickle\n",
    "from matplotlib import pyplot as plt    \n",
    "\n",
    "# Environment\n",
    "env = gym.make(\"CartPole-v1\",render_mode='human')\n",
    "state_dim = env.observation_space.shape[0]\n",
    "action_dim = env.action_space.n\n",
    "\n",
    "# Hyperparameters\n",
    "lr_actor = 3e-4\n",
    "lr_discriminator = 1e-3\n",
    "gamma = 0.99\n",
    "epsilon = 0.2\n",
    "batch_size = 64\n",
    "num_episodes = 100"
   ]
  },
  {
   "cell_type": "code",
   "execution_count": 61,
   "id": "c311cd50",
   "metadata": {},
   "outputs": [],
   "source": [
    "class Policy(nn.Module):\n",
    "    def __init__(self):\n",
    "        super().__init__()\n",
    "        self.fc = nn.Sequential(\n",
    "            nn.Linear(state_dim, 64),\n",
    "            nn.ReLU(),\n",
    "            nn.Linear(64, action_dim),\n",
    "            nn.Softmax(dim=-1)\n",
    "        )\n",
    "    \n",
    "    def forward(self, state):\n",
    "        return self.fc(state)\n",
    "\n",
    "policy = Policy()\n",
    "optimizer_actor = optim.Adam(policy.parameters(), lr=lr_actor)"
   ]
  },
  {
   "cell_type": "code",
   "execution_count": 62,
   "id": "3d45df72",
   "metadata": {},
   "outputs": [],
   "source": [
    "class Discriminator(nn.Module):\n",
    "    def __init__(self):\n",
    "        super().__init__()\n",
    "        self.fc = nn.Sequential(\n",
    "            nn.Linear(state_dim + action_dim, 64),  # Now expects state_dim + action_dim\n",
    "            nn.ReLU(),\n",
    "            nn.Linear(64, 1),\n",
    "            nn.Sigmoid()\n",
    "        )\n",
    "    \n",
    "    def forward(self, state, action):\n",
    "        action_onehot = torch.zeros(action.shape[0], action_dim)  # Shape: [batch_size, 2]\n",
    "        action_onehot.scatter_(1, action.long(), 1)  # Convert action to one-hot\n",
    "        x = torch.cat([state, action_onehot], dim=-1)  # Shape: [batch_size, 4+2=6]\n",
    "        return self.fc(x)\n",
    "    \n",
    "discriminator = Discriminator()\n",
    "optimizer_discriminator = optim.Adam(discriminator.parameters(), lr=lr_discriminator)"
   ]
  },
  {
   "cell_type": "code",
   "execution_count": 63,
   "id": "d6007c1f",
   "metadata": {},
   "outputs": [],
   "source": [
    "# def generate_expert_data(num_trajectories=50):\n",
    "#     expert_states, expert_actions = [], []\n",
    "#     for _ in range(num_trajectories):\n",
    "#         state = env.reset()[0]\n",
    "#         done = False\n",
    "#         while not done:\n",
    "#             action = 1 if state[2] > 0 else 0  # Biased policy (balance pole)\n",
    "#             expert_states.append(state)\n",
    "#             expert_actions.append(action)\n",
    "#             state, _, done,_ , _ = env.step(action)\n",
    "#     return np.array(expert_states), np.array(expert_actions)\n",
    "\n",
    "# expert_states, expert_actions = generate_expert_data()"
   ]
  },
  {
   "cell_type": "code",
   "execution_count": 65,
   "id": "fe8c74e3",
   "metadata": {},
   "outputs": [],
   "source": [
    "dest_dir = \"./expert_data\"\n",
    "checkpoint_files = [\"ckpt0.pkl\"]\n",
    "\n",
    "for ckpt in checkpoint_files:\n",
    "    # load expert data from pickle\n",
    "    with open(f\"{dest_dir}/{ckpt}\", \"rb\") as f:\n",
    "        all_data = pickle.load(f)\n",
    "    expert_states = all_data[\"states\"]\n",
    "    expert_actions = all_data[\"actions\"]"
   ]
  },
  {
   "cell_type": "code",
   "execution_count": 66,
   "id": "6301e9ca",
   "metadata": {},
   "outputs": [],
   "source": [
    "for i in range(len(expert_states)):\n",
    "    expert_states[i] = expert_states[i].tolist()\n",
    "    expert_actions[i] = int(expert_actions[i])"
   ]
  },
  {
   "cell_type": "code",
   "execution_count": 67,
   "id": "37940fce",
   "metadata": {},
   "outputs": [
    {
     "name": "stdout",
     "output_type": "stream",
     "text": [
      "[[0.021411817520856857, 0.017583424225449562, -0.018309468403458595, -0.023649049922823906], [0.021763484925031662, -0.17727123200893402, -0.018782449886202812, 0.2632012665271759], [0.018218060955405235, 0.01811371184885502, -0.013518424704670906, -0.035346176475286484], [0.01858033426105976, -0.1768117994070053, -0.014225348830223083, 0.2530410885810852], [0.01504409871995449, 0.018510356545448303, -0.00916452705860138, -0.044094622135162354]]\n",
      "[0, 1, 0, 1, 0]\n"
     ]
    }
   ],
   "source": [
    "print(expert_states[:5])\n",
    "print(expert_actions[:5])"
   ]
  },
  {
   "cell_type": "code",
   "execution_count": 68,
   "id": "e0f70170",
   "metadata": {},
   "outputs": [],
   "source": [
    "\n",
    "def update_discriminator(expert_states, expert_actions, policy_states, policy_actions):\n",
    "    expert_states_tensor = torch.FloatTensor(expert_states)\n",
    "    expert_actions_tensor = torch.FloatTensor(expert_actions).unsqueeze(1)\n",
    "    policy_states_tensor = torch.FloatTensor(policy_states)\n",
    "    policy_actions_tensor = torch.FloatTensor(policy_actions).unsqueeze(1)\n",
    "    \n",
    "    # Discriminator loss\n",
    "    expert_probs = discriminator(expert_states_tensor, expert_actions_tensor)\n",
    "    policy_probs = discriminator(policy_states_tensor, policy_actions_tensor)\n",
    "    loss_d = -torch.mean(torch.log(expert_probs + 1e-8)) - torch.mean(torch.log(1 - policy_probs + 1e-8))\n",
    "    \n",
    "    optimizer_discriminator.zero_grad()\n",
    "    loss_d.backward()\n",
    "    optimizer_discriminator.step()\n"
   ]
  },
  {
   "cell_type": "code",
   "execution_count": 69,
   "id": "d23ef7f5",
   "metadata": {},
   "outputs": [],
   "source": [
    "\n",
    "def compute_advantages(rewards):\n",
    "    # Simplified advantage calculation (GAIL typically uses GAE)\n",
    "    return (rewards - np.mean(rewards)) / (np.std(rewards) + 1e-8)\n"
   ]
  },
  {
   "cell_type": "code",
   "execution_count": 70,
   "id": "a82b69f1",
   "metadata": {},
   "outputs": [],
   "source": [
    "\n",
    "def update_policy(states, actions, advantages):\n",
    "    states_tensor = torch.FloatTensor(np.array(states))\n",
    "    actions_tensor = torch.LongTensor(np.array(actions))\n",
    "    advantages_tensor = torch.FloatTensor(advantages)\n",
    "    \n",
    "    # PPO loss\n",
    "    old_probs = policy(states_tensor).gather(1, actions_tensor.unsqueeze(1))\n",
    "    for _ in range(3):  # PPO epochs\n",
    "        new_probs = policy(states_tensor).gather(1, actions_tensor.unsqueeze(1))\n",
    "        ratio = new_probs / old_probs.detach()\n",
    "        surrogate_loss = -torch.min(\n",
    "            ratio * advantages_tensor.unsqueeze(1),\n",
    "            torch.clamp(ratio, 1 - epsilon, 1 + epsilon) * advantages_tensor.unsqueeze(1)\n",
    "        ).mean()\n",
    "        \n",
    "        optimizer_actor.zero_grad()\n",
    "        surrogate_loss.backward()\n",
    "        optimizer_actor.step()\n"
   ]
  },
  {
   "cell_type": "code",
   "execution_count": 71,
   "id": "5b8bf00a",
   "metadata": {},
   "outputs": [],
   "source": [
    "def train_gail():\n",
    "    for episode in range(num_episodes):\n",
    "        # Collect policy trajectories\n",
    "        states, actions, rewards = [], [], []\n",
    "        state = env.reset()\n",
    "        state = state[0]\n",
    "        done = False\n",
    "        while not done:\n",
    "            state_tensor = torch.FloatTensor(state).unsqueeze(0)\n",
    "            action_probs = policy(state_tensor)\n",
    "            action = torch.multinomial(action_probs, 1).item()\n",
    "            \n",
    "            next_state, _, done, _, _ = env.step(action)\n",
    "            \n",
    "            states.append(state)\n",
    "            actions.append(action)\n",
    "            rewards.append(0.0)  # Placeholder (updated later)\n",
    "            state = next_state\n",
    "        \n",
    "        # Convert to tensors\n",
    "        states_tensor = torch.FloatTensor(np.array(states))\n",
    "        actions_tensor = torch.FloatTensor(np.array(actions)).unsqueeze(1)\n",
    "        \n",
    "        # Compute rewards using discriminator\n",
    "        with torch.no_grad():\n",
    "            policy_rewards = torch.log(discriminator(states_tensor, actions_tensor) + 1e-8)\n",
    "        rewards = policy_rewards.squeeze().numpy()\n",
    "        \n",
    "        # Update policy (PPO)\n",
    "        advantages = compute_advantages(rewards)  # Simplified advantage calculation\n",
    "        update_policy(states, actions, advantages)\n",
    "        \n",
    "        # Update discriminator\n",
    "        update_discriminator(expert_states, expert_actions, states, actions)\n",
    "        \n",
    "        print(f\"Episode {episode}, Reward: {len(states)}\")\n",
    "\n"
   ]
  },
  {
   "cell_type": "code",
   "execution_count": 72,
   "id": "eb9dd037",
   "metadata": {},
   "outputs": [
    {
     "name": "stdout",
     "output_type": "stream",
     "text": [
      "Episode 0, Reward: 9\n",
      "Episode 1, Reward: 37\n",
      "Episode 2, Reward: 10\n",
      "Episode 3, Reward: 15\n",
      "Episode 4, Reward: 16\n",
      "Episode 5, Reward: 24\n",
      "Episode 6, Reward: 12\n",
      "Episode 7, Reward: 13\n",
      "Episode 8, Reward: 11\n",
      "Episode 9, Reward: 13\n",
      "Episode 10, Reward: 19\n",
      "Episode 11, Reward: 22\n",
      "Episode 12, Reward: 18\n",
      "Episode 13, Reward: 15\n",
      "Episode 14, Reward: 11\n",
      "Episode 15, Reward: 10\n",
      "Episode 16, Reward: 15\n",
      "Episode 17, Reward: 13\n",
      "Episode 18, Reward: 19\n",
      "Episode 19, Reward: 18\n",
      "Episode 20, Reward: 11\n",
      "Episode 21, Reward: 22\n",
      "Episode 22, Reward: 13\n",
      "Episode 23, Reward: 18\n",
      "Episode 24, Reward: 18\n",
      "Episode 25, Reward: 24\n",
      "Episode 26, Reward: 27\n",
      "Episode 27, Reward: 11\n",
      "Episode 28, Reward: 23\n",
      "Episode 29, Reward: 16\n",
      "Episode 30, Reward: 9\n",
      "Episode 31, Reward: 15\n",
      "Episode 32, Reward: 10\n",
      "Episode 33, Reward: 24\n",
      "Episode 34, Reward: 15\n",
      "Episode 35, Reward: 8\n",
      "Episode 36, Reward: 12\n",
      "Episode 37, Reward: 11\n",
      "Episode 38, Reward: 12\n",
      "Episode 39, Reward: 13\n",
      "Episode 40, Reward: 13\n",
      "Episode 41, Reward: 9\n",
      "Episode 42, Reward: 14\n",
      "Episode 43, Reward: 17\n",
      "Episode 44, Reward: 10\n",
      "Episode 45, Reward: 14\n",
      "Episode 46, Reward: 9\n",
      "Episode 47, Reward: 31\n",
      "Episode 48, Reward: 11\n",
      "Episode 49, Reward: 15\n",
      "Episode 50, Reward: 10\n",
      "Episode 51, Reward: 13\n",
      "Episode 52, Reward: 11\n",
      "Episode 53, Reward: 12\n",
      "Episode 54, Reward: 12\n",
      "Episode 55, Reward: 10\n",
      "Episode 56, Reward: 9\n",
      "Episode 57, Reward: 16\n",
      "Episode 58, Reward: 38\n",
      "Episode 59, Reward: 27\n",
      "Episode 60, Reward: 11\n",
      "Episode 61, Reward: 11\n",
      "Episode 62, Reward: 10\n",
      "Episode 63, Reward: 14\n",
      "Episode 64, Reward: 16\n",
      "Episode 65, Reward: 12\n",
      "Episode 66, Reward: 11\n",
      "Episode 67, Reward: 11\n",
      "Episode 68, Reward: 12\n",
      "Episode 69, Reward: 10\n",
      "Episode 70, Reward: 8\n",
      "Episode 71, Reward: 12\n",
      "Episode 72, Reward: 14\n",
      "Episode 73, Reward: 12\n",
      "Episode 74, Reward: 11\n",
      "Episode 75, Reward: 9\n",
      "Episode 76, Reward: 10\n",
      "Episode 77, Reward: 12\n",
      "Episode 78, Reward: 12\n",
      "Episode 79, Reward: 11\n",
      "Episode 80, Reward: 11\n",
      "Episode 81, Reward: 11\n",
      "Episode 82, Reward: 11\n",
      "Episode 83, Reward: 9\n",
      "Episode 84, Reward: 13\n",
      "Episode 85, Reward: 10\n",
      "Episode 86, Reward: 26\n",
      "Episode 87, Reward: 13\n",
      "Episode 88, Reward: 13\n",
      "Episode 89, Reward: 13\n",
      "Episode 90, Reward: 10\n",
      "Episode 91, Reward: 9\n",
      "Episode 92, Reward: 10\n",
      "Episode 93, Reward: 14\n",
      "Episode 94, Reward: 12\n",
      "Episode 95, Reward: 11\n",
      "Episode 96, Reward: 9\n",
      "Episode 97, Reward: 15\n",
      "Episode 98, Reward: 9\n",
      "Episode 99, Reward: 11\n"
     ]
    }
   ],
   "source": [
    "\n",
    "# Start training\n",
    "train_gail()"
   ]
  },
  {
   "cell_type": "code",
   "execution_count": 73,
   "id": "4efeab22",
   "metadata": {},
   "outputs": [
    {
     "data": {
      "text/plain": [
       "1"
      ]
     },
     "execution_count": 73,
     "metadata": {},
     "output_type": "execute_result"
    }
   ],
   "source": [
    "st = [0.5, 0.5, 0.5, 0.5]\n",
    "policy(torch.FloatTensor(st).unsqueeze(0))  # Example usage of policy\n",
    "torch.multinomial(policy(torch.FloatTensor(st).unsqueeze(0)), 1).item()  # Example action selection"
   ]
  },
  {
   "cell_type": "code",
   "execution_count": 79,
   "id": "750371ab",
   "metadata": {},
   "outputs": [],
   "source": [
    "env = gym.make(\"CartPole-v1\", render_mode='human')"
   ]
  },
  {
   "cell_type": "code",
   "execution_count": 80,
   "id": "b94fab14",
   "metadata": {},
   "outputs": [
    {
     "name": "stdout",
     "output_type": "stream",
     "text": [
      "Episode 1, Reward: 13.0\n",
      "Episode 2, Reward: 10.0\n",
      "Episode 3, Reward: 11.0\n",
      "Episode 4, Reward: 15.0\n",
      "Episode 5, Reward: 10.0\n",
      "Episode 6, Reward: 31.0\n",
      "Episode 7, Reward: 11.0\n",
      "Episode 8, Reward: 9.0\n",
      "Episode 9, Reward: 15.0\n",
      "Episode 10, Reward: 13.0\n"
     ]
    }
   ],
   "source": [
    "def run_episode(env, policy, render):\n",
    "    state = env.reset()[0]\n",
    "    total_reward = 0\n",
    "    \n",
    "    while True:\n",
    "        if render:\n",
    "            env.render()  # Visualize the episode\n",
    "        \n",
    "        # Convert state to tensor and get action probabilities\n",
    "        state_tensor = torch.FloatTensor(state).unsqueeze(0)\n",
    "        action_probs = policy(state_tensor)\n",
    "        \n",
    "        # Sample an action from the probability distribution\n",
    "        action = torch.multinomial(action_probs, 1).item()\n",
    "        \n",
    "        # Take the action in the environment\n",
    "        next_state, reward, done,_, _ = env.step(action)\n",
    "        total_reward += reward\n",
    "        state = next_state\n",
    "        \n",
    "        if done:\n",
    "            break\n",
    "    \n",
    "    return total_reward\n",
    "\n",
    "# Test the policy for 10 episodes\n",
    "for episode in range(10):\n",
    "    reward = run_episode(env, policy, render=True)\n",
    "    print(f\"Episode {episode + 1}, Reward: {reward}\")\n",
    "\n",
    "env.close()  # Close the environment"
   ]
  }
 ],
 "metadata": {
  "kernelspec": {
   "display_name": "act_env",
   "language": "python",
   "name": "python3"
  },
  "language_info": {
   "codemirror_mode": {
    "name": "ipython",
    "version": 3
   },
   "file_extension": ".py",
   "mimetype": "text/x-python",
   "name": "python",
   "nbconvert_exporter": "python",
   "pygments_lexer": "ipython3",
   "version": "3.10.12"
  }
 },
 "nbformat": 4,
 "nbformat_minor": 5
}
