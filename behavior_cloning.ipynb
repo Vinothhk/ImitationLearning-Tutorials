{
 "cells": [
  {
   "cell_type": "code",
   "execution_count": null,
   "id": "1f72469a",
   "metadata": {},
   "outputs": [],
   "source": [
    "import gymnasium as gym\n",
    "import numpy as np\n",
    "from stable_baselines3 import DQN,PPO\n",
    "from stable_baselines3.common.evaluation import evaluate_policy\n",
    "import matplotlib.pyplot as plt\n",
    "from stable_baselines3.common.vec_env import DummyVecEnv"
   ]
  },
  {
   "cell_type": "code",
   "execution_count": null,
   "id": "b33efac9",
   "metadata": {},
   "outputs": [],
   "source": [
    "\"\"\"\n",
    "This script demonstrates how to train a DQN agent on the CartPole-v1 environment using Stable Baselines3.\n",
    "It includes the setup of the environment, training the agent, and evaluating its performance.\n",
    "\"\"\""
   ]
  },
  {
   "cell_type": "code",
   "execution_count": null,
   "id": "656f8238",
   "metadata": {},
   "outputs": [],
   "source": [
    "env = gym.make(\"CartPole-v1\",render_mode=\"human\")\n"
   ]
  },
  {
   "cell_type": "code",
   "execution_count": null,
   "id": "243710c4",
   "metadata": {},
   "outputs": [],
   "source": [
    "obs = env.reset()\n",
    "env.render()\n",
    "for _ in range(1000):\n",
    "    action = env.action_space.sample()  # Random action\n",
    "    obs, reward, terminated, truncated,info = env.step(action)\n",
    "    done = terminated or truncated\n",
    "    \n",
    "    # print(f\"Observation: {obs}, Reward: {reward}, Done: {done}\")\n",
    "    if done:\n",
    "        obs = env.reset()\n",
    "env.close()"
   ]
  },
  {
   "cell_type": "code",
   "execution_count": null,
   "id": "5e9878f2",
   "metadata": {},
   "outputs": [],
   "source": [
    "model = PPO(\"MlpPolicy\", env, verbose=1)\n",
    "\n",
    "# Train the agent for 100_000 timesteps (~1000 episodes)\n",
    "model.learn(total_timesteps=35_000)\n",
    "\n",
    "# Save the trained model\n",
    "model.save(\"models/ppo_cartpole_expert\")"
   ]
  },
  {
   "cell_type": "code",
   "execution_count": null,
   "id": "755f41f0",
   "metadata": {},
   "outputs": [],
   "source": [
    "!pwd"
   ]
  },
  {
   "cell_type": "code",
   "execution_count": null,
   "id": "bd5f67e2",
   "metadata": {},
   "outputs": [],
   "source": [
    "model.save(\"models/ppo_cartpole_expert\")"
   ]
  },
  {
   "cell_type": "code",
   "execution_count": null,
   "id": "2a25f9ac",
   "metadata": {},
   "outputs": [],
   "source": [
    "expert_model = PPO.load(\"models/ppo_cartpole_expert\")"
   ]
  },
  {
   "cell_type": "code",
   "execution_count": null,
   "id": "25d62c04",
   "metadata": {},
   "outputs": [],
   "source": [
    "env = gym.make(\"CartPole-v1\",render_mode=\"human\")"
   ]
  },
  {
   "cell_type": "code",
   "execution_count": null,
   "id": "fd11e6f9",
   "metadata": {},
   "outputs": [],
   "source": [
    "env.reset()"
   ]
  },
  {
   "cell_type": "code",
   "execution_count": null,
   "id": "d252ee00",
   "metadata": {},
   "outputs": [],
   "source": [
    "obs, _ = env.reset()\n",
    "env.render()\n",
    "g_reward = 0\n",
    "while True:\n",
    "    # Predict action\n",
    "    action, _states = expert_model.predict(obs, deterministic=True)\n",
    "\n",
    "    # Step in environment\n",
    "    obs, reward, done, truncated, info = env.step(action)\n",
    "    g_reward += reward\n",
    "    # Optional: render is handled automatically with render_mode=\"human\"\n",
    "    \n",
    "    print(f\"Reward: {g_reward}\")\n",
    "env.close()"
   ]
  },
  {
   "cell_type": "code",
   "execution_count": null,
   "id": "7831a7cd",
   "metadata": {},
   "outputs": [],
   "source": [
    "env.close()"
   ]
  },
  {
   "cell_type": "code",
   "execution_count": null,
   "id": "b16362b6",
   "metadata": {},
   "outputs": [],
   "source": [
    "from imitation.algorithms.bc import BC\n",
    "from imitation.data import rollout"
   ]
  },
  {
   "cell_type": "code",
   "execution_count": null,
   "id": "e2ccf0fe",
   "metadata": {},
   "outputs": [],
   "source": [
    "vec_env = DummyVecEnv([lambda: gym.make(\"CartPole-v1\")])\n",
    "\n",
    "# Create RNG\n",
    "rng = np.random.default_rng(0)\n",
    "\n",
    "# Collect expert rollouts (e.g., 50 episodes)\n",
    "rollouts = rollout.rollout(\n",
    "    expert_model,\n",
    "    vec_env,\n",
    "    rollout.make_sample_until(min_timesteps=None, min_episodes=50),\n",
    "    rng=rng,\n",
    "    unwrap=False\n",
    ")"
   ]
  },
  {
   "cell_type": "code",
   "execution_count": null,
   "id": "3088d430",
   "metadata": {},
   "outputs": [],
   "source": [
    "PPO.policy_aliases"
   ]
  },
  {
   "cell_type": "code",
   "execution_count": null,
   "id": "b5c51b33",
   "metadata": {},
   "outputs": [],
   "source": [
    "PPO.policy_aliases[\"MlpPolicy\"]"
   ]
  },
  {
   "cell_type": "code",
   "execution_count": null,
   "id": "c8784f6f",
   "metadata": {},
   "outputs": [],
   "source": [
    "# Initialize BC model\n",
    "bc_trainer = BC(\n",
    "    observation_space=vec_env.observation_space,\n",
    "    action_space=vec_env.action_space,\n",
    "    demonstrations=rollouts,\n",
    "    batch_size=32,\n",
    "    rng=rng\n",
    ")"
   ]
  },
  {
   "cell_type": "code",
   "execution_count": null,
   "id": "fed8c282",
   "metadata": {},
   "outputs": [],
   "source": [
    "\n",
    "# Train BC model\n",
    "bc_trainer.train(n_epochs=50)  # You can increase n_epochs for better results\n"
   ]
  },
  {
   "cell_type": "code",
   "execution_count": null,
   "id": "b317bdeb",
   "metadata": {},
   "outputs": [],
   "source": [
    "\n",
    "# Save trained model\n",
    "bc_trainer.policy.save(\"models/bc_cartpole_policy\")"
   ]
  },
  {
   "cell_type": "code",
   "execution_count": null,
   "id": "3d66942d",
   "metadata": {},
   "outputs": [],
   "source": [
    "from stable_baselines3.common.evaluation import evaluate_policy"
   ]
  },
  {
   "cell_type": "code",
   "execution_count": null,
   "id": "c0574a7b",
   "metadata": {},
   "outputs": [],
   "source": [
    "env = gym.make(\"CartPole-v1\", render_mode=\"human\")\n",
    "reward, _ = evaluate_policy(bc_trainer.policy, env, 10)\n",
    "print(\"Reward:\", reward)"
   ]
  }
 ],
 "metadata": {
  "kernelspec": {
   "display_name": "act_env",
   "language": "python",
   "name": "python3"
  },
  "language_info": {
   "codemirror_mode": {
    "name": "ipython",
    "version": 3
   },
   "file_extension": ".py",
   "mimetype": "text/x-python",
   "name": "python",
   "nbconvert_exporter": "python",
   "pygments_lexer": "ipython3",
   "version": "3.10.12"
  }
 },
 "nbformat": 4,
 "nbformat_minor": 5
}
