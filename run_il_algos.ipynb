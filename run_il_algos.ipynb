{
 "cells": [
  {
   "cell_type": "code",
   "execution_count": null,
   "id": "2874cf07",
   "metadata": {},
   "outputs": [
    {
     "name": "stdout",
     "output_type": "stream",
     "text": [
      "WARNING - expert - Added new config entry: \"loader_kwargs.path\"\n",
      "INFO - train_imitation - Running command 'bc'\n",
      "INFO - train_imitation - Started run with ID \"1\"\n",
      "INFO - imitation.scripts.ingredients.logging - Logging to /home/vinoth/HuggFace/IL/output/bc/CartPole-v1/20250703_235303_ea3193\n",
      "INFO - imitation.scripts.ingredients.demonstrations - Generating 50 expert trajectories\n",
      "INFO - root - Loading Stable Baselines policy for '<class 'stable_baselines3.ppo.ppo.PPO'>' from 'tests/testdata/expert_models/cartpole_0/policies/final/model.zip'\n",
      "/home/vinoth/HuggFace/act_env/lib/python3.10/site-packages/sacred/stdout_capturing.py:179: UserWarning: tee_stdout.wait timeout. Forcibly terminating.\n",
      "  warnings.warn(\"tee_stdout.wait timeout. Forcibly terminating.\")\n",
      "/home/vinoth/HuggFace/act_env/lib/python3.10/site-packages/sacred/stdout_capturing.py:185: UserWarning: tee_stderr.wait timeout. Forcibly terminating.\n",
      "  warnings.warn(\"tee_stderr.wait timeout. Forcibly terminating.\")\n",
      "ERROR - train_imitation - Failed after 0:00:06!\n",
      "Traceback (most recent calls WITHOUT Sacred internals):\n",
      "  File \"/home/vinoth/HuggFace/imitation/src/imitation/scripts/train_imitation.py\", line 75, in bc\n",
      "    expert_trajs = demonstrations.get_expert_trajectories()\n",
      "  File \"/home/vinoth/HuggFace/imitation/src/imitation/scripts/ingredients/demonstrations.py\", line 93, in get_expert_trajectories\n",
      "    return _generate_expert_trajs()\n",
      "  File \"/home/vinoth/HuggFace/imitation/src/imitation/scripts/ingredients/demonstrations.py\", line 148, in _generate_expert_trajs\n",
      "    expert.get_expert_policy(env),\n",
      "  File \"/home/vinoth/HuggFace/imitation/src/imitation/scripts/ingredients/expert.py\", line 63, in get_expert_policy\n",
      "    return serialize.load_policy(policy_type, venv, **loader_kwargs)\n",
      "  File \"/home/vinoth/HuggFace/imitation/src/imitation/policies/serialize.py\", line 179, in load_policy\n",
      "    return agent_loader(venv, **kwargs)\n",
      "  File \"/home/vinoth/HuggFace/imitation/src/imitation/policies/serialize.py\", line 88, in f\n",
      "    model = load_stable_baselines_model(cls, path, venv)\n",
      "  File \"/home/vinoth/HuggFace/imitation/src/imitation/policies/serialize.py\", line 71, in load_stable_baselines_model\n",
      "    return cls.load(path_obj, env=venv, **kwargs)\n",
      "  File \"/home/vinoth/HuggFace/act_env/lib/python3.10/site-packages/stable_baselines3/common/base_class.py\", line 677, in load\n",
      "    data, params, pytorch_variables = load_from_zip_file(\n",
      "  File \"/home/vinoth/HuggFace/act_env/lib/python3.10/site-packages/stable_baselines3/common/save_util.py\", line 402, in load_from_zip_file\n",
      "    file = open_path(load_path, \"r\", verbose=verbose, suffix=\"zip\")\n",
      "  File \"/usr/lib/python3.10/functools.py\", line 889, in wrapper\n",
      "    return dispatch(args[0].__class__)(*args, **kw)\n",
      "  File \"/home/vinoth/HuggFace/act_env/lib/python3.10/site-packages/stable_baselines3/common/save_util.py\", line 290, in open_path_pathlib\n",
      "    return open_path_pathlib(path, mode, verbose, suffix)\n",
      "  File \"/home/vinoth/HuggFace/act_env/lib/python3.10/site-packages/stable_baselines3/common/save_util.py\", line 271, in open_path_pathlib\n",
      "    raise error\n",
      "  File \"/home/vinoth/HuggFace/act_env/lib/python3.10/site-packages/stable_baselines3/common/save_util.py\", line 263, in open_path_pathlib\n",
      "    return open_path(path.open(\"rb\"), mode, verbose, suffix)\n",
      "  File \"/usr/lib/python3.10/pathlib.py\", line 1119, in open\n",
      "    return self._accessor.open(self, mode, buffering, encoding, errors,\n",
      "FileNotFoundError: [Errno 2] No such file or directory: '/home/vinoth/HuggFace/IL/tests/testdata/expert_models/cartpole_0/policies/final/model.zip.zip'\n",
      "\n"
     ]
    }
   ],
   "source": []
  }
 ],
 "metadata": {
  "kernelspec": {
   "display_name": "act_env",
   "language": "python",
   "name": "python3"
  },
  "language_info": {
   "codemirror_mode": {
    "name": "ipython",
    "version": 3
   },
   "file_extension": ".py",
   "mimetype": "text/x-python",
   "name": "python",
   "nbconvert_exporter": "python",
   "pygments_lexer": "ipython3",
   "version": "3.10.12"
  }
 },
 "nbformat": 4,
 "nbformat_minor": 5
}
